{
 "cells": [
  {
   "cell_type": "markdown",
   "metadata": {},
   "source": [
    "## Relative Performance comparison in Neural Networks for Aquatic Toxicity Prediction "
   ]
  },
  {
   "cell_type": "markdown",
   "metadata": {},
   "source": [
    "###                       Comparing change across ( Nodes, Hidden Layers, Computational Effort)"
   ]
  },
  {
   "cell_type": "code",
   "execution_count": 153,
   "metadata": {},
   "outputs": [
    {
     "name": "stdout",
     "output_type": "stream",
     "text": [
      "Tensor Flow Version Used :  2.1.0\n"
     ]
    }
   ],
   "source": [
    "#importing libraries\n",
    "import pathlib\n",
    "import matplotlib.pyplot as plt\n",
    "import numpy as np\n",
    "import pandas as pd\n",
    "import seaborn as sns\n",
    "import tensorflow as tf\n",
    "import tensorflow_docs as tfdocs\n",
    "import tensorflow_docs.plots\n",
    "import tensorflow_docs.modeling\n",
    "from tensorflow import keras\n",
    "from tensorflow.keras import layers\n",
    "\n",
    "from keras.optimizers import SGD\n",
    "from sklearn.model_selection import StratifiedKFold\n",
    "from sklearn.preprocessing import StandardScaler\n",
    "from sklearn.model_selection import GridSearchCV\n",
    "from keras.models import Sequential\n",
    "from keras.layers import Dense\n",
    "from keras.layers import Dropout\n",
    "from keras.wrappers.scikit_learn import KerasRegressor\n",
    "from keras.constraints import maxnorm\n",
    "\n",
    "#plot\n",
    "import matplotlib.pyplot as plt\n",
    "import datetime\n",
    "import matplotlib.dates as mdates\n",
    "from matplotlib.transforms import Transform\n",
    "from matplotlib.ticker import (\n",
    "    AutoLocator, AutoMinorLocator)\n",
    "\n",
    "print(\"Tensor Flow Version Used : \", tf.__version__)"
   ]
  },
  {
   "cell_type": "code",
   "execution_count": 129,
   "metadata": {},
   "outputs": [],
   "source": [
    "#Reading the Data\n",
    "toxic_data = pd.read_csv (r'QSAR.csv')"
   ]
  },
  {
   "cell_type": "markdown",
   "metadata": {},
   "source": [
    "### Data Set Description"
   ]
  },
  {
   "cell_type": "markdown",
   "metadata": {},
   "source": [
    "This dataset is used to solve a function approximation regression problem using keras feed forward neural network\n",
    "models to predict acute aquatic toxicity towards the fish Pimephales promelas (fathead minnow) on a set of 908 chemicals, to predict acute aquatic toxicity towards Daphnia Magna. LC50 data, which is the concentration that causes death in 50% of test D. magna over a test duration of 48 hours, was used as model response. The model comprised 8 molecular descriptors: TPSA(Tot) (Molecular properties) , SAacc (Molecular properties), H-050 (Atom-centred fragments), MLOGP (Molecular properties),\n",
    "RDCHI (Connectivity indices), GATS1p (2D autocorrelations), nN (Constitutional indices), C-040 (Atom-centred fragments)."
   ]
  },
  {
   "cell_type": "markdown",
   "metadata": {},
   "source": [
    "#### Data set containing values for 8 attributes (molecular descriptors) of 546 chemicals used to predict quantitative acute aquatic toxicity towards the fish \"Daphnia Magna\""
   ]
  },
  {
   "cell_type": "markdown",
   "metadata": {},
   "source": [
    " #### The target variable Y is \"LC50\" which is concerntration of toxicity that causes the death of fish(fathead minnow)"
   ]
  },
  {
   "cell_type": "markdown",
   "metadata": {},
   "source": [
    "the data set consists of 908 observations for 6 attributes namely \"CIC0, SM1_Dz, GATS1i, NdsCH, NdssC, MLOGP\" and 1 dependent vairable Y \"Y_LC50\"\n"
   ]
  },
  {
   "cell_type": "code",
   "execution_count": 130,
   "metadata": {},
   "outputs": [
    {
     "data": {
      "text/html": [
       "<div>\n",
       "<style scoped>\n",
       "    .dataframe tbody tr th:only-of-type {\n",
       "        vertical-align: middle;\n",
       "    }\n",
       "\n",
       "    .dataframe tbody tr th {\n",
       "        vertical-align: top;\n",
       "    }\n",
       "\n",
       "    .dataframe thead th {\n",
       "        text-align: right;\n",
       "    }\n",
       "</style>\n",
       "<table border=\"1\" class=\"dataframe\">\n",
       "  <thead>\n",
       "    <tr style=\"text-align: right;\">\n",
       "      <th></th>\n",
       "      <th>CIC0</th>\n",
       "      <th>SM1_Dz</th>\n",
       "      <th>GATS1i</th>\n",
       "      <th>NdsCH</th>\n",
       "      <th>NdssC</th>\n",
       "      <th>MLOGP</th>\n",
       "      <th>Y_LC50</th>\n",
       "    </tr>\n",
       "  </thead>\n",
       "  <tbody>\n",
       "    <tr>\n",
       "      <th>count</th>\n",
       "      <td>908.000000</td>\n",
       "      <td>908.000000</td>\n",
       "      <td>908.000000</td>\n",
       "      <td>908.000000</td>\n",
       "      <td>908.000000</td>\n",
       "      <td>908.000000</td>\n",
       "      <td>908.000000</td>\n",
       "    </tr>\n",
       "    <tr>\n",
       "      <th>mean</th>\n",
       "      <td>2.898129</td>\n",
       "      <td>0.628468</td>\n",
       "      <td>1.293591</td>\n",
       "      <td>0.229075</td>\n",
       "      <td>0.485683</td>\n",
       "      <td>2.109285</td>\n",
       "      <td>4.064431</td>\n",
       "    </tr>\n",
       "    <tr>\n",
       "      <th>std</th>\n",
       "      <td>0.756088</td>\n",
       "      <td>0.428459</td>\n",
       "      <td>0.394303</td>\n",
       "      <td>0.605335</td>\n",
       "      <td>0.861279</td>\n",
       "      <td>1.433181</td>\n",
       "      <td>1.455698</td>\n",
       "    </tr>\n",
       "    <tr>\n",
       "      <th>min</th>\n",
       "      <td>0.667000</td>\n",
       "      <td>0.000000</td>\n",
       "      <td>0.396000</td>\n",
       "      <td>0.000000</td>\n",
       "      <td>0.000000</td>\n",
       "      <td>-2.884000</td>\n",
       "      <td>0.053000</td>\n",
       "    </tr>\n",
       "    <tr>\n",
       "      <th>25%</th>\n",
       "      <td>2.347000</td>\n",
       "      <td>0.223000</td>\n",
       "      <td>0.950750</td>\n",
       "      <td>0.000000</td>\n",
       "      <td>0.000000</td>\n",
       "      <td>1.209000</td>\n",
       "      <td>3.151750</td>\n",
       "    </tr>\n",
       "    <tr>\n",
       "      <th>50%</th>\n",
       "      <td>2.934000</td>\n",
       "      <td>0.570000</td>\n",
       "      <td>1.240500</td>\n",
       "      <td>0.000000</td>\n",
       "      <td>0.000000</td>\n",
       "      <td>2.127000</td>\n",
       "      <td>3.987500</td>\n",
       "    </tr>\n",
       "    <tr>\n",
       "      <th>75%</th>\n",
       "      <td>3.407000</td>\n",
       "      <td>0.892750</td>\n",
       "      <td>1.562250</td>\n",
       "      <td>0.000000</td>\n",
       "      <td>1.000000</td>\n",
       "      <td>3.105000</td>\n",
       "      <td>4.907500</td>\n",
       "    </tr>\n",
       "    <tr>\n",
       "      <th>max</th>\n",
       "      <td>5.926000</td>\n",
       "      <td>2.171000</td>\n",
       "      <td>2.920000</td>\n",
       "      <td>4.000000</td>\n",
       "      <td>6.000000</td>\n",
       "      <td>6.515000</td>\n",
       "      <td>9.612000</td>\n",
       "    </tr>\n",
       "  </tbody>\n",
       "</table>\n",
       "</div>"
      ],
      "text/plain": [
       "             CIC0      SM1_Dz      GATS1i       NdsCH       NdssC       MLOGP  \\\n",
       "count  908.000000  908.000000  908.000000  908.000000  908.000000  908.000000   \n",
       "mean     2.898129    0.628468    1.293591    0.229075    0.485683    2.109285   \n",
       "std      0.756088    0.428459    0.394303    0.605335    0.861279    1.433181   \n",
       "min      0.667000    0.000000    0.396000    0.000000    0.000000   -2.884000   \n",
       "25%      2.347000    0.223000    0.950750    0.000000    0.000000    1.209000   \n",
       "50%      2.934000    0.570000    1.240500    0.000000    0.000000    2.127000   \n",
       "75%      3.407000    0.892750    1.562250    0.000000    1.000000    3.105000   \n",
       "max      5.926000    2.171000    2.920000    4.000000    6.000000    6.515000   \n",
       "\n",
       "           Y_LC50  \n",
       "count  908.000000  \n",
       "mean     4.064431  \n",
       "std      1.455698  \n",
       "min      0.053000  \n",
       "25%      3.151750  \n",
       "50%      3.987500  \n",
       "75%      4.907500  \n",
       "max      9.612000  "
      ]
     },
     "execution_count": 130,
     "metadata": {},
     "output_type": "execute_result"
    }
   ],
   "source": [
    "# Toxicity value ranges from 0.053 to 9.61\n",
    "#The below tables gives the statstics of all the other variables\n",
    "\n",
    "toxic_data.describe()"
   ]
  },
  {
   "cell_type": "code",
   "execution_count": 3,
   "metadata": {},
   "outputs": [],
   "source": [
    "#Splitting the dataset into train and test\n",
    "train_dataset = toxic_data.sample(frac=0.7,random_state=0)\n",
    "test_dataset = toxic_data.drop(train_dataset.index)"
   ]
  },
  {
   "cell_type": "code",
   "execution_count": 4,
   "metadata": {},
   "outputs": [
    {
     "data": {
      "text/html": [
       "<div>\n",
       "<style scoped>\n",
       "    .dataframe tbody tr th:only-of-type {\n",
       "        vertical-align: middle;\n",
       "    }\n",
       "\n",
       "    .dataframe tbody tr th {\n",
       "        vertical-align: top;\n",
       "    }\n",
       "\n",
       "    .dataframe thead th {\n",
       "        text-align: right;\n",
       "    }\n",
       "</style>\n",
       "<table border=\"1\" class=\"dataframe\">\n",
       "  <thead>\n",
       "    <tr style=\"text-align: right;\">\n",
       "      <th></th>\n",
       "      <th>count</th>\n",
       "      <th>mean</th>\n",
       "      <th>std</th>\n",
       "      <th>min</th>\n",
       "      <th>25%</th>\n",
       "      <th>50%</th>\n",
       "      <th>75%</th>\n",
       "      <th>max</th>\n",
       "    </tr>\n",
       "  </thead>\n",
       "  <tbody>\n",
       "    <tr>\n",
       "      <th>CIC0</th>\n",
       "      <td>908.0</td>\n",
       "      <td>2.898129</td>\n",
       "      <td>0.756088</td>\n",
       "      <td>0.667</td>\n",
       "      <td>2.34700</td>\n",
       "      <td>2.9340</td>\n",
       "      <td>3.40700</td>\n",
       "      <td>5.926</td>\n",
       "    </tr>\n",
       "    <tr>\n",
       "      <th>SM1_Dz</th>\n",
       "      <td>908.0</td>\n",
       "      <td>0.628468</td>\n",
       "      <td>0.428459</td>\n",
       "      <td>0.000</td>\n",
       "      <td>0.22300</td>\n",
       "      <td>0.5700</td>\n",
       "      <td>0.89275</td>\n",
       "      <td>2.171</td>\n",
       "    </tr>\n",
       "    <tr>\n",
       "      <th>GATS1i</th>\n",
       "      <td>908.0</td>\n",
       "      <td>1.293591</td>\n",
       "      <td>0.394303</td>\n",
       "      <td>0.396</td>\n",
       "      <td>0.95075</td>\n",
       "      <td>1.2405</td>\n",
       "      <td>1.56225</td>\n",
       "      <td>2.920</td>\n",
       "    </tr>\n",
       "    <tr>\n",
       "      <th>NdsCH</th>\n",
       "      <td>908.0</td>\n",
       "      <td>0.229075</td>\n",
       "      <td>0.605335</td>\n",
       "      <td>0.000</td>\n",
       "      <td>0.00000</td>\n",
       "      <td>0.0000</td>\n",
       "      <td>0.00000</td>\n",
       "      <td>4.000</td>\n",
       "    </tr>\n",
       "    <tr>\n",
       "      <th>NdssC</th>\n",
       "      <td>908.0</td>\n",
       "      <td>0.485683</td>\n",
       "      <td>0.861279</td>\n",
       "      <td>0.000</td>\n",
       "      <td>0.00000</td>\n",
       "      <td>0.0000</td>\n",
       "      <td>1.00000</td>\n",
       "      <td>6.000</td>\n",
       "    </tr>\n",
       "    <tr>\n",
       "      <th>MLOGP</th>\n",
       "      <td>908.0</td>\n",
       "      <td>2.109285</td>\n",
       "      <td>1.433181</td>\n",
       "      <td>-2.884</td>\n",
       "      <td>1.20900</td>\n",
       "      <td>2.1270</td>\n",
       "      <td>3.10500</td>\n",
       "      <td>6.515</td>\n",
       "    </tr>\n",
       "  </tbody>\n",
       "</table>\n",
       "</div>"
      ],
      "text/plain": [
       "        count      mean       std    min      25%     50%      75%    max\n",
       "CIC0    908.0  2.898129  0.756088  0.667  2.34700  2.9340  3.40700  5.926\n",
       "SM1_Dz  908.0  0.628468  0.428459  0.000  0.22300  0.5700  0.89275  2.171\n",
       "GATS1i  908.0  1.293591  0.394303  0.396  0.95075  1.2405  1.56225  2.920\n",
       "NdsCH   908.0  0.229075  0.605335  0.000  0.00000  0.0000  0.00000  4.000\n",
       "NdssC   908.0  0.485683  0.861279  0.000  0.00000  0.0000  1.00000  6.000\n",
       "MLOGP   908.0  2.109285  1.433181 -2.884  1.20900  2.1270  3.10500  6.515"
      ]
     },
     "execution_count": 4,
     "metadata": {},
     "output_type": "execute_result"
    }
   ],
   "source": [
    "train_des = toxic_data.describe()\n",
    "train_des.pop(\"Y_LC50\")\n",
    "train_des = train_des.transpose()\n",
    "train_des"
   ]
  },
  {
   "cell_type": "code",
   "execution_count": 5,
   "metadata": {},
   "outputs": [],
   "source": [
    "# extracting label values/Y variable \"Y_LC50\" i.e. acute aquatic toxicity\n",
    "\n",
    "train_labels = train_dataset.pop('Y_LC50')\n",
    "test_labels = test_dataset.pop('Y_LC50')"
   ]
  },
  {
   "cell_type": "code",
   "execution_count": 131,
   "metadata": {},
   "outputs": [],
   "source": [
    "#normalizing the dataset (performs better for neural network inputs)\n",
    "def norm(x):\n",
    "    return (x - train_des['mean']) / train_des['std']\n",
    "normed_train_data = norm(train_dataset)\n",
    "normed_test_data = norm(test_dataset)"
   ]
  },
  {
   "cell_type": "code",
   "execution_count": 132,
   "metadata": {},
   "outputs": [],
   "source": [
    "X_train = normed_train_data\n",
    "y_train = train_labels\n",
    "X_test = normed_test_data\n",
    "y_test = test_labels"
   ]
  },
  {
   "cell_type": "markdown",
   "metadata": {},
   "source": [
    "## Comparing relative performance changing number of nodes and hidden layers using Hyperparameter Tuning"
   ]
  },
  {
   "cell_type": "markdown",
   "metadata": {},
   "source": [
    "### Performance by Number of Neurons"
   ]
  },
  {
   "cell_type": "code",
   "execution_count": 161,
   "metadata": {},
   "outputs": [],
   "source": [
    "#creating a network with 1 hidden layers d-d-1\n",
    "def create_model_neurons(neurons=6):\n",
    "# create model\n",
    "    model = Sequential()\n",
    "    model.add(Dense(neurons, input_dim=len(train_dataset.keys()), activation='relu'))\n",
    "    model.add(Dense(1, activation='relu'))\n",
    "\t# Compile model\n",
    "    model.compile(loss='mse', optimizer='SGD', metrics=['mse'])\n",
    "    return model"
   ]
  },
  {
   "cell_type": "code",
   "execution_count": 162,
   "metadata": {},
   "outputs": [],
   "source": [
    "# fix random seed for reproducibility\n",
    "seed = 7\n",
    "numpy.random.seed(seed)\n",
    "\n",
    "# create model\n",
    "model = KerasRegressor(build_fn=create_model_neurons, epochs=100, batch_size=10, verbose=0)"
   ]
  },
  {
   "cell_type": "markdown",
   "metadata": {},
   "source": [
    "### Evaluating performance of the network by changing number of neurons 6,12,24,30,36,42"
   ]
  },
  {
   "cell_type": "code",
   "execution_count": 169,
   "metadata": {},
   "outputs": [
    {
     "name": "stdout",
     "output_type": "stream",
     "text": [
      "Best: 0.836946 using {'neurons': 30}\n",
      "0.962873 (0.060695) with: {'neurons': 6}\n",
      "0.928381 (0.170928) with: {'neurons': 12}\n",
      "0.912529 (0.050403) with: {'neurons': 24}\n",
      "0.836946 (0.085153) with: {'neurons': 30}\n",
      "0.960984 (0.181567) with: {'neurons': 36}\n",
      "0.847139 (0.114967) with: {'neurons': 42}\n"
     ]
    }
   ],
   "source": [
    "# define the grid search parameters for neurons 6,12,24,30,36,42\n",
    "neurons = [6,12,24,30,36,42]\n",
    "mse_neurons = []\n",
    "no_neurons=[]\n",
    "param_grid = dict(neurons=neurons)\n",
    "grid = GridSearchCV(estimator=model, param_grid=param_grid, n_jobs=-1, cv=3)\n",
    "grid_result = grid.fit(X_train, y_train)\n",
    "# summarize results\n",
    "print(\"Best: %f using %s\" % (np.sqrt(grid_result.best_score_*grid_result.best_score_), grid_result.best_params_))\n",
    "means = grid_result.cv_results_['mean_test_score']\n",
    "stds = grid_result.cv_results_['std_test_score']\n",
    "params = grid_result.cv_results_['params']\n",
    "for mean, stdev, param in zip(means, stds, params):\n",
    "    mse_neurons.append(np.sqrt(mean*mean))\n",
    "    print(\"%f (%f) with: %r\" % (np.sqrt(mean*mean), stdev, param))"
   ]
  },
  {
   "cell_type": "markdown",
   "metadata": {},
   "source": [
    "#### The best model performs with 30 neurons resulting in a mean squared error of 0.83"
   ]
  },
  {
   "cell_type": "code",
   "execution_count": 170,
   "metadata": {},
   "outputs": [
    {
     "data": {
      "text/plain": [
       "[0.9628731450007396,\n",
       " 0.9283810219955894,\n",
       " 0.9125292938460344,\n",
       " 0.836945627165853,\n",
       " 0.9609839717547098,\n",
       " 0.8471387416686652]"
      ]
     },
     "execution_count": 170,
     "metadata": {},
     "output_type": "execute_result"
    }
   ],
   "source": [
    "mse_neurons"
   ]
  },
  {
   "cell_type": "code",
   "execution_count": 171,
   "metadata": {},
   "outputs": [
    {
     "data": {
      "text/plain": [
       "[6, 12, 24, 30, 36, 42]"
      ]
     },
     "execution_count": 171,
     "metadata": {},
     "output_type": "execute_result"
    }
   ],
   "source": [
    "neurons"
   ]
  },
  {
   "cell_type": "markdown",
   "metadata": {},
   "source": [
    "### Evaluating performance of the network by changing number of hidden layers 1,2,3,4,5,6"
   ]
  },
  {
   "cell_type": "code",
   "execution_count": 172,
   "metadata": {},
   "outputs": [],
   "source": [
    "#creating a network for hidden layers tuning\n",
    "def create_model_layer(neurons=6, hidden_layers=1):\n",
    "# create model\n",
    "    model = Sequential()\n",
    "    model.add(Dense(neurons, input_dim=len(train_dataset.keys()), activation='relu'))\n",
    "    for i in range(hidden_layers):\n",
    "      # Add hidden layer based on input\n",
    "      model.add(Dense(neurons, activation='relu'))\n",
    "\n",
    "    model.add(Dense(1, activation='relu'))\n",
    "\t# Compile model\n",
    "    model.compile(loss='mse', optimizer='SGD', metrics=['mse'])\n",
    "    return model"
   ]
  },
  {
   "cell_type": "code",
   "execution_count": 173,
   "metadata": {},
   "outputs": [],
   "source": [
    "# fix random seed for reproducibility\n",
    "seed = 7\n",
    "numpy.random.seed(seed)\n",
    "\n",
    "# create model\n",
    "model2 = KerasRegressor(build_fn=create_model_layer, epochs=100, batch_size=10, verbose=0)"
   ]
  },
  {
   "cell_type": "code",
   "execution_count": 174,
   "metadata": {},
   "outputs": [
    {
     "name": "stdout",
     "output_type": "stream",
     "text": [
      "Best: 0.856373 using {'hidden_layers': 2}\n",
      "0.946070 (0.091349) with: {'hidden_layers': 0}\n",
      "0.877834 (0.146870) with: {'hidden_layers': 1}\n",
      "0.856373 (0.104337) with: {'hidden_layers': 2}\n",
      "1.100777 (0.403832) with: {'hidden_layers': 3}\n",
      "0.876124 (0.154052) with: {'hidden_layers': 4}\n",
      "12.100048 (7.786440) with: {'hidden_layers': 5}\n",
      "12.004203 (7.921192) with: {'hidden_layers': 6}\n"
     ]
    }
   ],
   "source": [
    "# tuning grid search across layers 1,2,3,4,5,6\n",
    "hidden_layers = [0,1,2,3,4,5,6]\n",
    "mse_layers=[]\n",
    "no_layers=[]\n",
    "param_grid = dict(hidden_layers=hidden_layers)\n",
    "grid = GridSearchCV(estimator=model2, param_grid=param_grid, n_jobs=-1, cv=3)\n",
    "grid_result = grid.fit(X_train, y_train)\n",
    "# summarize results\n",
    "print(\"Best: %f using %s\" % (np.sqrt(grid_result.best_score_*grid_result.best_score_), grid_result.best_params_))\n",
    "means = grid_result.cv_results_['mean_test_score']\n",
    "stds = grid_result.cv_results_['std_test_score']\n",
    "params = grid_result.cv_results_['params']\n",
    "for mean, stdev, param in zip(means, stds, params):\n",
    "    mse_layers.append(np.sqrt(mean*mean))\n",
    "#     no_layers.append(param.values())\n",
    "    print(\"%f (%f) with: %r\" % (np.sqrt(mean*mean), stdev, param))"
   ]
  },
  {
   "cell_type": "markdown",
   "metadata": {},
   "source": [
    "#### The best model performs with 2 hidden layers resulting in Mean Squared Error of 0.85"
   ]
  },
  {
   "cell_type": "code",
   "execution_count": 200,
   "metadata": {},
   "outputs": [
    {
     "name": "stderr",
     "output_type": "stream",
     "text": [
      "No handles with labels found to put in legend.\n"
     ]
    },
    {
     "data": {
      "image/png": "[encoded data removed]",
      "text/plain": [
       "<Figure size 432x288 with 2 Axes>"
      ]
     },
     "metadata": {},
     "output_type": "display_data"
    }
   ],
   "source": [
    "#plotting curves - increasing number of weights and neurons across performance evaluation mean squared error\n",
    "import matplotlib.pyplot as plt\n",
    "\n",
    "x_values1=neurons\n",
    "y_values1=mse_neurons\n",
    "\n",
    "x_values2=hidden_layers\n",
    "y_values2=mse_layers\n",
    "\n",
    "\n",
    "fig=plt.figure()\n",
    "ax=fig.add_subplot(111, label=\"1\")\n",
    "ax2=fig.add_subplot(111, label=\"2\", frame_on=False)\n",
    "\n",
    "\n",
    "ax.plot(x_values1, y_values1, color=\"C0\")\n",
    "ax.set_xlabel(\"Number of nodes\", color=\"C0\")\n",
    "ax.set_ylabel(\"MSE across nodes\", color=\"C0\")\n",
    "ax.tick_params(axis='x', colors=\"C0\")\n",
    "ax.tick_params(axis='y', colors=\"C0\")\n",
    "\n",
    "\n",
    "ax2.plot(x_values2, y_values2, color=\"C1\")\n",
    "ax2.xaxis.tick_top()\n",
    "ax2.yaxis.tick_right()\n",
    "ax2.set_xlabel('Number of layers', color=\"C1\") \n",
    "ax2.set_ylabel('MSE acroos layers', color=\"C1\")       \n",
    "ax2.xaxis.set_label_position('top') \n",
    "ax2.yaxis.set_label_position('right') \n",
    "ax2.tick_params(axis='x', colors=\"C1\")\n",
    "ax2.tick_params(axis='y', colors=\"C1\")\n",
    "ax2.legend()\n",
    "\n",
    "ax.legend(['MSE_Nodes'], loc='upper right')\n",
    "ax2.legend(['MSE_Layers'], loc='upper left')\n",
    "plt.title(\"Performance while increasing number of nodes and number of layers\")\n",
    "plt.show()"
   ]
  },
  {
   "cell_type": "markdown",
   "metadata": {},
   "source": [
    "##### Answer 1\n",
    "##### (i) Does increasing the number of weights help? \n",
    "##### Ans(i) It depends on the problem statement, in this particular usecase increasing number of weights helped upto a certain value. In this case increasing number of neurons from (6 to 42) which corresponds to increase in weights resulted in better mse score in this particular problem statement i.e. performed best with 30 neurons resulting in a mse of 0.83, but their is no particular pattern that increasing number of neurons will definetly lead to better performance\n",
    "\n",
    "##### (ii) Does increasing the number of layers help?  \n",
    "###### Ans(ii)It depends on the problem statement,in this particular usecase increasing number of layers helped since increasing number of hidden layers from (1 to 6) resulted in better mse score in this particular problem statement i.e. performed best with 2 hidden layers resulting in a mse of 0.85, but their is no pattern that increasing in number of hidden layer will definelty lead to better performance"
   ]
  },
  {
   "cell_type": "markdown",
   "metadata": {},
   "source": [
    "## 2. Performance Comparison after large number of computation (epochs)"
   ]
  },
  {
   "cell_type": "markdown",
   "metadata": {},
   "source": [
    "We will used the best parameters evaluated in part 1 (number of neurons and number of hidden layers) of the assignment to further tune the model solving the questions in part 2 to evaluate model performance comparison and computational effort"
   ]
  },
  {
   "cell_type": "markdown",
   "metadata": {},
   "source": [
    "### Evaluating performance across large number of comuptational epochs "
   ]
  },
  {
   "cell_type": "code",
   "execution_count": 201,
   "metadata": {},
   "outputs": [],
   "source": [
    "#creating model for tuning large number of computation evaluation\n",
    "def create_model_epoch(epochs=10):\n",
    "# create model\n",
    "    model = Sequential()\n",
    "    model.add(Dense(6, input_dim=len(train_dataset.keys()), activation='relu'))\n",
    "    model.add(Dense(30, activation='relu'))\n",
    "    model.add(Dense(30, activation='relu'))\n",
    "    model.add(Dense(1, activation='relu'))\n",
    "\t# Compile model\n",
    "    model.compile(loss='mse', optimizer='SGD', metrics=['mse'])\n",
    "    return model"
   ]
  },
  {
   "cell_type": "code",
   "execution_count": 188,
   "metadata": {},
   "outputs": [],
   "source": [
    "# fix random seed for reproducibility\n",
    "seed = 7\n",
    "numpy.random.seed(seed)\n",
    "\n",
    "# create model\n",
    "model_epoch = KerasRegressor(build_fn=create_model_epoch, epochs=100, batch_size=10, verbose=0)"
   ]
  },
  {
   "cell_type": "code",
   "execution_count": 189,
   "metadata": {},
   "outputs": [
    {
     "name": "stdout",
     "output_type": "stream",
     "text": [
      "Best: 0.879161 using {'epochs': 150}\n",
      "1.027155 (0.208367) with: {'epochs': 10}\n",
      "6.192617 (7.313293) with: {'epochs': 50}\n",
      "6.737659 (8.397320) with: {'epochs': 100}\n",
      "0.879161 (0.158170) with: {'epochs': 150}\n",
      "1.095245 (0.279703) with: {'epochs': 300}\n",
      "0.973497 (0.271709) with: {'epochs': 400}\n",
      "1.140131 (0.108779) with: {'epochs': 500}\n"
     ]
    }
   ],
   "source": [
    "#defining tune grid for epoch computations 10,50,100,150,300,400,500\n",
    "epochs = [10, 50,100,150,300,400,500]\n",
    "epoch_list=[]\n",
    "mse_epochs = []\n",
    "param_grid = dict(epochs=epochs)\n",
    "grid = GridSearchCV(estimator=model_epoch, param_grid=param_grid, n_jobs=-1, cv=3)\n",
    "grid_result = grid.fit(X_train, y_train)\n",
    "# summarize results\n",
    "print(\"Best: %f using %s\" % (np.sqrt(grid_result.best_score_*grid_result.best_score_), grid_result.best_params_))\n",
    "means = grid_result.cv_results_['mean_test_score']\n",
    "stds = grid_result.cv_results_['std_test_score']\n",
    "params = grid_result.cv_results_['params']\n",
    "for mean, stdev, param in zip(means, stds, params):\n",
    "    epoch_list.append(param)\n",
    "    mse_epochs.append(np.sqrt(mean*mean))\n",
    "    print(\"%f (%f) with: %r\" % (np.sqrt(mean*mean), stdev, param))"
   ]
  },
  {
   "attachments": {
    "image.png": {
     "image/png": "[encoded data removed]"
    }
   },
   "cell_type": "markdown",
   "metadata": {},
   "source": [
    "![image.png](attachment:image.png)"
   ]
  },
  {
   "cell_type": "markdown",
   "metadata": {},
   "source": [
    "##### Answer 2\n",
    "##### a) Best results obtained after a large number of computations\n",
    "##### The best model performs best with 181950  weight updates (150 epochs) resulting in Mean Squared Error of 0.87"
   ]
  },
  {
   "cell_type": "code",
   "execution_count": 190,
   "metadata": {},
   "outputs": [
    {
     "name": "stdout",
     "output_type": "stream",
     "text": [
      "Model: \"sequential_38\"\n",
      "_________________________________________________________________\n",
      "Layer (type)                 Output Shape              Param #   \n",
      "=================================================================\n",
      "dense_107 (Dense)            (None, 6)                 42        \n",
      "_________________________________________________________________\n",
      "dense_108 (Dense)            (None, 30)                210       \n",
      "_________________________________________________________________\n",
      "dense_109 (Dense)            (None, 30)                930       \n",
      "_________________________________________________________________\n",
      "dense_110 (Dense)            (None, 1)                 31        \n",
      "=================================================================\n",
      "Total params: 1,213\n",
      "Trainable params: 1,213\n",
      "Non-trainable params: 0\n",
      "_________________________________________________________________\n"
     ]
    }
   ],
   "source": [
    "s = create_model_epoch()\n",
    "s.summary()"
   ]
  },
  {
   "cell_type": "markdown",
   "metadata": {},
   "source": [
    "### b)\tComputational effort required to get satisfactory results i.e. MSE = 0.87"
   ]
  },
  {
   "cell_type": "code",
   "execution_count": 196,
   "metadata": {},
   "outputs": [],
   "source": [
    "computaional_effort = []\n",
    "for i in epochs:\n",
    "    computaional_effort.append(i*1213) "
   ]
  },
  {
   "cell_type": "code",
   "execution_count": 197,
   "metadata": {},
   "outputs": [
    {
     "data": {
      "text/plain": [
       "[12130, 60650, 121300, 181950, 363900, 485200, 606500]"
      ]
     },
     "execution_count": 197,
     "metadata": {},
     "output_type": "execute_result"
    }
   ],
   "source": [
    "computaional_effort"
   ]
  },
  {
   "cell_type": "code",
   "execution_count": 199,
   "metadata": {},
   "outputs": [
    {
     "data": {
      "image/png": "[encoded data removed]",
      "text/plain": [
       "<Figure size 432x288 with 1 Axes>"
      ]
     },
     "metadata": {
      "needs_background": "light"
     },
     "output_type": "display_data"
    }
   ],
   "source": [
    "#plotting computational effort required to reach satisfactory MSE = 0.87\n",
    "x_values4=computaional_effort\n",
    "y_values4=mse_epochs\n",
    "\n",
    "\n",
    "fig=plt.figure()\n",
    "ax=fig.add_subplot(111, label=\"1\")\n",
    "\n",
    "\n",
    "\n",
    "ax.plot(x_values4, y_values4, color=\"C0\")\n",
    "ax.set_xlabel(\"Computaional Effort (epochs*no. of weights)\", color=\"C0\")\n",
    "ax.set_ylabel(\"MSE across epochs\", color=\"C0\")\n",
    "ax.tick_params(axis='x', colors=\"C0\")\n",
    "ax.tick_params(axis='y', colors=\"C0\")\n",
    "\n",
    "ax.legend(['MSE_Epochs'], loc='upper right')\n",
    "plt.title(\"Computational effort required to get satisfactory MSE = 0.87 \")\n",
    "plt.show()"
   ]
  },
  {
   "cell_type": "markdown",
   "metadata": {},
   "source": [
    "##### The computational effort required for reaching 0.87 MSE is 181950"
   ]
  },
  {
   "cell_type": "markdown",
   "metadata": {},
   "source": [
    "### Solution 1\n",
    "##### From the above sets of experiments we can conclude that for a neural network increasing number of nodes and layers will\n",
    "##### help in improving performance but needs to be tuned as an excessive increase in those parameters sometimes deteriorates \n",
    "##### performance as while tuning the number of neurons across 6-42 nodes resulted in a trade-off in 30 neurons and tuning \n",
    "##### hidden layers across 1-6 resulted in this trade-off in 2 hidden layers performing best of this particular use case. This \n",
    "##### reveals the importance of tuning and training models as per the hyperparameters to obtain the best results.\n",
    "### Solution 2\n",
    "##### The set of experiments in part 2 proved that model performance may vary while increasing the number of computations \n",
    "##### i.e. weight updates across epochs, in this use case we see that performance improves up to 181950 weight updates but\n",
    "##### the performance does not improve after that showing that a large number of weight updates could result in a model to \n",
    "##### escape the global minima and perform poorly later\n",
    "\n"
   ]
  },
  {
   "cell_type": "markdown",
   "metadata": {},
   "source": [
    "## Conclusion\n",
    "#### The two solutions stated above proves that for a neural network increasing number of neurons, hidden layers and\n",
    "#### computations will not always improve the performance but the idea is to arrive at a trade off tuning the required \n",
    "#### parameters involved with the neural network architecture that could result in the best performance based on the \n",
    "#### complexity of the problem statement"
   ]
  },
  {
   "cell_type": "markdown",
   "metadata": {},
   "source": [
    "## References\n",
    "#### Dataset : https://archive.ics.uci.edu/ml/datasets/QSAR+aquatic+toxicity\n",
    "#### Tensorflow : https://www.tensorflow.org/api_docs\n",
    "#### Keras : https://keras.io/api/models/sequential/"
   ]
  }
 ],
 "metadata": {
  "kernelspec": {
   "display_name": "TensorFlow-GPU",
   "language": "python",
   "name": "tf-gpu"
  },
  "language_info": {
   "codemirror_mode": {
    "name": "ipython",
    "version": 3
   },
   "file_extension": ".py",
   "mimetype": "text/x-python",
   "name": "python",
   "nbconvert_exporter": "python",
   "pygments_lexer": "ipython3",
   "version": "3.7.9"
  }
 },
 "nbformat": 4,
 "nbformat_minor": 4
}
